{
 "cells": [
  {
   "cell_type": "markdown",
   "metadata": {},
   "source": [
    "# IMDB電影評論數據探索\n",
    "\n",
    "本notebook用於探索IMDB電影評論數據集，了解數據的基本特徵和分布。"
   ]
  },
  {
   "cell_type": "code",
   "execution_count": null,
   "metadata": {},
   "outputs": [],
   "source": [
    "import sys\n",
    "import os\n",
    "sys.path.append('..')\n",
    "\n",
    "import numpy as np\n",
    "import pandas as pd\n",
    "import matplotlib.pyplot as plt\n",
    "import seaborn as sns\n",
    "from wordcloud import WordCloud\n",
    "import nltk\n",
    "from collections import Counter\n",
    "\n",
    "from src.data_preprocessing import IMDBDataPreprocessor\n",
    "from tensorflow.keras.datasets import imdb\n",
    "\n",
    "plt.style.use('seaborn-v0_8')\n",
    "plt.rcParams['font.size'] = 12\n",
    "plt.rcParams['figure.figsize'] = (10, 6)"
   ]
  },
  {
   "cell_type": "markdown",
   "metadata": {},
   "source": [
    "## 1. 載入數據"
   ]
  },
  {
   "cell_type": "code",
   "execution_count": null,
   "metadata": {},
   "outputs": [],
   "source": [
    "# 載入IMDB數據集\n",
    "print(\"載入IMDB數據集...\")\n",
    "(X_train, y_train), (X_test, y_test) = imdb.load_data(num_words=10000)\n",
    "\n",
    "print(f\"訓練集大小: {len(X_train)}\")\n",
    "print(f\"測試集大小: {len(X_test)}\")\n",
    "print(f\"總樣本數: {len(X_train) + len(X_test)}\")"
   ]
  },
  {
   "cell_type": "markdown",
   "metadata": {},
   "source": [
    "## 2. 標籤分布分析"
   ]
  },
  {
   "cell_type": "code",
   "execution_count": null,
   "metadata": {},
   "outputs": [],
   "source": [
    "# 分析標籤分布\n",
    "train_labels = pd.Series(y_train)\n",
    "test_labels = pd.Series(y_test)\n",
    "\n",
    "fig, (ax1, ax2) = plt.subplots(1, 2, figsize=(12, 5))\n",
    "\n",
    "train_labels.value_counts().plot(kind='bar', ax=ax1, color=['red', 'green'])\n",
    "ax1.set_title('訓練集標籤分布')\n",
    "ax1.set_xlabel('標籤 (0=負面, 1=正面)')\n",
    "ax1.set_ylabel('數量')\n",
    "ax1.tick_params(axis='x', rotation=0)\n",
    "\n",
    "test_labels.value_counts().plot(kind='bar', ax=ax2, color=['red', 'green'])\n",
    "ax2.set_title('測試集標籤分布')\n",
    "ax2.set_xlabel('標籤 (0=負面, 1=正面)')\n",
    "ax2.set_ylabel('數量')\n",
    "ax2.tick_params(axis='x', rotation=0)\n",
    "\n",
    "plt.tight_layout()\n",
    "plt.show()\n",
    "\n",
    "print(f\"訓練集正面評論比例: {np.mean(y_train):.2%}\")\n",
    "print(f\"測試集正面評論比例: {np.mean(y_test):.2%}\")"
   ]
  },
  {
   "cell_type": "markdown",
   "metadata": {},
   "source": [
    "## 3. 評論長度分析"
   ]
  },
  {
   "cell_type": "code",
   "execution_count": null,
   "metadata": {},
   "outputs": [],
   "source": [
    "# 分析評論長度\n",
    "train_lengths = [len(review) for review in X_train]\n",
    "test_lengths = [len(review) for review in X_test]\n",
    "\n",
    "fig, (ax1, ax2) = plt.subplots(1, 2, figsize=(15, 5))\n",
    "\n",
    "ax1.hist(train_lengths, bins=50, alpha=0.7, color='blue', label='訓練集')\n",
    "ax1.hist(test_lengths, bins=50, alpha=0.7, color='red', label='測試集')\n",
    "ax1.set_title('評論長度分布')\n",
    "ax1.set_xlabel('評論長度 (詞數)')\n",
    "ax1.set_ylabel('頻率')\n",
    "ax1.legend()\n",
    "\n",
    "ax2.boxplot([train_lengths, test_lengths], labels=['訓練集', '測試集'])\n",
    "ax2.set_title('評論長度箱型圖')\n",
    "ax2.set_ylabel('評論長度 (詞數)')\n",
    "\n",
    "plt.tight_layout()\n",
    "plt.show()\n",
    "\n",
    "print(f\"訓練集評論長度統計:\")\n",
    "print(f\"  平均長度: {np.mean(train_lengths):.2f}\")\n",
    "print(f\"  中位數長度: {np.median(train_lengths):.2f}\")\n",
    "print(f\"  最短長度: {np.min(train_lengths)}\")\n",
    "print(f\"  最長長度: {np.max(train_lengths)}\")\n",
    "print(f\"  標準差: {np.std(train_lengths):.2f}\")"
   ]
  },
  {
   "cell_type": "markdown",
   "metadata": {},
   "source": [
    "## 4. 詞彙分析"
   ]
  },
  {
   "cell_type": "code",
   "execution_count": null,
   "metadata": {},
   "outputs": [],
   "source": [
    "# 獲取詞彙索引\n",
    "word_index = imdb.get_word_index()\n",
    "reverse_word_index = {value: key for key, value in word_index.items()}\n",
    "\n",
    "print(f\"詞彙表大小: {len(word_index)}\")\n",
    "print(f\"前10個最常見詞彙:\")\n",
    "for i in range(1, 11):\n",
    "    print(f\"  {i}: {reverse_word_index.get(i, '?')}\")"
   ]
  },
  {
   "cell_type": "code",
   "execution_count": null,
   "metadata": {},
   "outputs": [],
   "source": [
    "# 分析詞頻分布\n",
    "all_words = []\n",
    "for review in X_train[:1000]:  # 只分析前1000個評論以節省時間\n",
    "    all_words.extend(review)\n",
    "\n",
    "word_freq = Counter(all_words)\n",
    "most_common = word_freq.most_common(20)\n",
    "\n",
    "words, frequencies = zip(*most_common)\n",
    "word_names = [reverse_word_index.get(word, f'UNK_{word}') for word in words]\n",
    "\n",
    "plt.figure(figsize=(12, 6))\n",
    "plt.bar(range(len(word_names)), frequencies)\n",
    "plt.xticks(range(len(word_names)), word_names, rotation=45, ha='right')\n",
    "plt.title('最常見的20個詞彙')\n",
    "plt.xlabel('詞彙')\n",
    "plt.ylabel('頻率')\n",
    "plt.tight_layout()\n",
    "plt.show()"
   ]
  },
  {
   "cell_type": "markdown",
   "metadata": {},
   "source": [
    "## 5. 樣本展示"
   ]
  },
  {
   "cell_type": "code",
   "execution_count": null,
   "metadata": {},
   "outputs": [],
   "source": [
    "# 將數字序列轉換回文本\n",
    "def decode_review(encoded_review):\n",
    "    return ' '.join([reverse_word_index.get(i - 3, '?') for i in encoded_review])\n",
    "\n",
    "# 展示幾個樣本\n",
    "print(\"正面評論樣本:\")\n",
    "positive_indices = np.where(y_train == 1)[0][:3]\n",
    "for i, idx in enumerate(positive_indices):\n",
    "    print(f\"\\n樣本 {i+1}:\")\n",
    "    print(decode_review(X_train[idx])[:500] + \"...\")\n",
    "\n",
    "print(\"\\n\" + \"=\"*50)\n",
    "print(\"負面評論樣本:\")\n",
    "negative_indices = np.where(y_train == 0)[0][:3]\n",
    "for i, idx in enumerate(negative_indices):\n",
    "    print(f\"\\n樣本 {i+1}:\")\n",
    "    print(decode_review(X_train[idx])[:500] + \"...\")"
   ]
  },
  {
   "cell_type": "markdown",
   "metadata": {},
   "source": [
    "## 6. 數據預處理建議\n",
    "\n",
    "基於以上分析，我們可以得出以下結論和建議：\n",
    "\n",
    "1. **數據平衡性**: 數據集在正面和負面評論之間保持良好的平衡\n",
    "2. **序列長度**: 評論長度變化很大，建議設置合適的最大長度進行截斷或填充\n",
    "3. **詞彙處理**: 需要處理低頻詞和高頻停用詞\n",
    "4. **文本清理**: 原始數據包含HTML標籤等需要清理的內容"
   ]
  },
  {
   "cell_type": "code",
   "execution_count": null,
   "metadata": {},
   "outputs": [],
   "source": [
    "# 分析不同長度閾值的覆蓋率\n",
    "length_thresholds = [100, 200, 300, 400, 500, 600, 800, 1000]\n",
    "coverage_rates = []\n",
    "\n",
    "for threshold in length_thresholds:\n",
    "    coverage = np.mean([length <= threshold for length in train_lengths])\n",
    "    coverage_rates.append(coverage)\n",
    "    print(f\"長度閾值 {threshold}: 覆蓋率 {coverage:.2%}\")\n",
    "\n",
    "plt.figure(figsize=(10, 6))\n",
    "plt.plot(length_thresholds, coverage_rates, marker='o')\n",
    "plt.title('不同長度閾值的數據覆蓋率')\n",
    "plt.xlabel('長度閾值')\n",
    "plt.ylabel('覆蓋率')\n",
    "plt.grid(True)\n",
    "plt.show()"
   ]
  }
 ],
 "metadata": {
  "kernelspec": {
   "display_name": "Python 3",
   "language": "python",
   "name": "python3"
  },
  "language_info": {
   "codemirror_mode": {
    "name": "ipython",
    "version": 3
   },
   "file_extension": ".py",
   "mimetype": "text/x-python",
   "name": "python",
   "nbconvert_exporter": "python",
   "pygments_lexer": "ipython3",
   "version": "3.8.5"
  }
 },
 "nbformat": 4,
 "nbformat_minor": 4
}