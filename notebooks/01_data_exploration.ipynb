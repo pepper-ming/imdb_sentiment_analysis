{
 "cells": [
  {
   "cell_type": "markdown",
   "metadata": {},
   "source": [
    "# IMDB電影評論資料探索分析\n",
    "\n",
    "本筆記本進行IMDB資料集的探索性分析，包括：\n",
    "- 資料載入和基本統計\n",
    "- 文本長度分佈分析\n",
    "- 詞彙統計和視覺化\n",
    "- 情感標籤分佈\n",
    "- 預處理效果比較"
   ]
  },
  {
   "cell_type": "code",
   "execution_count": null,
   "metadata": {},
   "outputs": [],
   "source": [
    "# 導入必要套件\n",
    "import sys\n",
    "import os\n",
    "sys.path.append('../')\n",
    "\n",
    "import pandas as pd\n",
    "import numpy as np\n",
    "import matplotlib.pyplot as plt\n",
    "import seaborn as sns\n",
    "from wordcloud import WordCloud\n",
    "import plotly.express as px\n",
    "import plotly.graph_objects as go\n",
    "\n",
    "# 自定義模組\n",
    "from src.data import IMDBDataLoader, TextPreprocessor\n",
    "from src.utils.logger import logger\n",
    "\n",
    "# 設定圖表樣式\n",
    "plt.style.use('seaborn-v0_8')\n",
    "sns.set_palette(\"husl\")\n",
    "\n",
    "print(\"套件載入完成！\")"
   ]
  },
  {
   "cell_type": "code",
   "execution_count": null,
   "metadata": {},
   "outputs": [],
   "source": [
    "# 載入IMDB資料集\n",
    "logger.info(\"開始載入IMDB資料集...\")\n",
    "\n",
    "data_loader = IMDBDataLoader(cache_dir=\"../data/raw\")\n",
    "train_texts, train_labels, test_texts, test_labels = data_loader.load_data()\n",
    "\n",
    "logger.info(f\"訓練集大小: {len(train_texts)}\")\n",
    "logger.info(f\"測試集大小: {len(test_texts)}\")\n",
    "\n",
    "# 獲取資料統計信息\n",
    "stats = data_loader.get_data_statistics()\n",
    "for key, value in stats.items():\n",
    "    print(f\"{key}: {value:.4f}\" if isinstance(value, float) else f\"{key}: {value}\")"
   ]
  },
  {
   "cell_type": "code",
   "execution_count": null,
   "metadata": {},
   "outputs": [],
   "source": [
    "# 預處理效果比較\n",
    "sample_text = train_texts[0]\n",
    "print(\"原始文本範例:\")\n",
    "print(sample_text[:500] + \"...\")\n",
    "print(\"\\n\" + \"=\"*50 + \"\\n\")\n",
    "\n",
    "# 基礎預處理\n",
    "basic_preprocessor = TextPreprocessor(\n",
    "    remove_html=True,\n",
    "    remove_urls=True,\n",
    "    lowercase=True,\n",
    "    handle_negations=True\n",
    ")\n",
    "\n",
    "processed_text = basic_preprocessor.preprocess(sample_text)\n",
    "print(\"基礎預處理後:\")\n",
    "print(processed_text[:500] + \"...\")"
   ]
  }
 ],
 "metadata": {
  "kernelspec": {
   "display_name": "Python 3",
   "language": "python",
   "name": "python3"
  },
  "language_info": {
   "codemirror_mode": {
    "name": "ipython",
    "version": 3
   },
   "file_extension": ".py",
   "mimetype": "text/x-python",
   "name": "python",
   "nbconvert_exporter": "python",
   "pygments_lexer": "ipython3",
   "version": "3.9.0"
  }
 },
 "nbformat": 4,
 "nbformat_minor": 4
}