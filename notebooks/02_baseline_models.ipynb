{
 "cells": [
  {
   "cell_type": "markdown",
   "metadata": {},
   "source": [
    "# 傳統機器學習基線模型\n",
    "\n",
    "本筆記本實作和比較多種傳統機器學習算法：\n",
    "- 邏輯回歸 (Logistic Regression)\n",
    "- 支持向量機 (SVM)\n",
    "- 樸素貝葉斯 (Naive Bayes)\n",
    "- 隨機森林 (Random Forest)\n",
    "\n",
    "使用TF-IDF特徵提取和網格搜索優化參數。"
   ]
  },
  {
   "cell_type": "code",
   "execution_count": null,
   "metadata": {},
   "outputs": [],
   "source": [
    "# 導入必要套件\n",
    "import sys\n",
    "sys.path.append('../')\n",
    "\n",
    "import pandas as pd\n",
    "import numpy as np\n",
    "import matplotlib.pyplot as plt\n",
    "import seaborn as sns\n",
    "from sklearn.model_selection import train_test_split\n",
    "\n",
    "# 自定義模組\n",
    "from src.data import IMDBDataLoader, TextPreprocessor\n",
    "from src.models.baseline import BaselineModelManager\n",
    "from src.evaluation.evaluator import ModelEvaluator\n",
    "from src.utils.logger import logger\n",
    "from src.utils.config import ProjectConfig\n",
    "\n",
    "# 設定隨機種子\n",
    "np.random.seed(42)\n",
    "\n",
    "print(\"套件載入完成！\")"
   ]
  },
  {
   "cell_type": "code",
   "execution_count": null,
   "metadata": {},
   "outputs": [],
   "source": [
    "# 載入和預處理資料\n",
    "logger.info(\"載入IMDB資料集...\")\n",
    "\n",
    "# 載入資料\n",
    "data_loader = IMDBDataLoader(cache_dir=\"../data/raw\")\n",
    "train_texts, train_labels, test_texts, test_labels = data_loader.load_data()\n",
    "\n",
    "# 創建驗證集\n",
    "train_texts_final, val_texts, train_labels_final, val_labels = train_test_split(\n",
    "    train_texts, train_labels, test_size=0.2, stratify=train_labels, random_state=42\n",
    ")\n",
    "\n",
    "print(f\"最終訓練集大小: {len(train_texts_final)}\")\n",
    "print(f\"驗證集大小: {len(val_texts)}\")\n",
    "print(f\"測試集大小: {len(test_texts)}\")"
   ]
  },
  {
   "cell_type": "code",
   "execution_count": null,
   "metadata": {},
   "outputs": [],
   "source": [
    "# 文本預處理\n",
    "logger.info(\"進行文本預處理...\")\n",
    "\n",
    "preprocessor = TextPreprocessor(\n",
    "    remove_html=True,\n",
    "    remove_urls=True,\n",
    "    lowercase=True,\n",
    "    handle_negations=True,\n",
    "    remove_punctuation=False  # 保留標點符號供TF-IDF使用\n",
    ")\n",
    "\n",
    "# 預處理所有文本\n",
    "train_texts_clean = preprocessor.preprocess_batch(train_texts_final)\n",
    "val_texts_clean = preprocessor.preprocess_batch(val_texts)\n",
    "test_texts_clean = preprocessor.preprocess_batch(test_texts)\n",
    "\n",
    "print(\"文本預處理完成！\")\n",
    "print(f\"預處理前範例: {train_texts_final[0][:100]}...\")\n",
    "print(f\"預處理後範例: {train_texts_clean[0][:100]}...\")"
   ]
  },
  {
   "cell_type": "code",
   "execution_count": null,
   "metadata": {},
   "outputs": [],
   "source": [
    "# 訓練基線模型\n",
    "logger.info(\"開始訓練基線模型...\")\n",
    "\n",
    "model_manager = BaselineModelManager(models_dir=\"../experiments/models\")\n",
    "\n",
    "# 訓練所有模型（使用網格搜索）\n",
    "training_results = model_manager.train_all_models(\n",
    "    train_texts_clean, \n",
    "    train_labels_final,\n",
    "    use_grid_search=True\n",
    ")\n",
    "\n",
    "# 顯示訓練結果\n",
    "for model_name, result in training_results.items():\n",
    "    if 'error' not in result:\n",
    "        print(f\"\\n{model_name}:\")\n",
    "        print(f\"  CV分數: {result['cv_score']:.4f}\")\n",
    "        print(f\"  最佳參數: {result['best_params']}\")\n",
    "    else:\n",
    "        print(f\"\\n{model_name}: 訓練失敗 - {result['error']}\")"
   ]
  },
  {
   "cell_type": "code",
   "execution_count": null,
   "metadata": {},
   "outputs": [],
   "source": [
    "# 在驗證集上評估模型\n",
    "logger.info(\"在驗證集上評估模型...\")\n",
    "\n",
    "evaluator = ModelEvaluator()\n",
    "validation_results = model_manager.evaluate_all_models(val_texts_clean, val_labels)\n",
    "\n",
    "# 使用評估器進行詳細分析\n",
    "for model_name, result in validation_results.items():\n",
    "    if 'error' not in result:\n",
    "        evaluator.evaluate_classification(\n",
    "            val_labels,\n",
    "            result['predictions'],\n",
    "            result.get('probabilities'),\n",
    "            model_name\n",
    "        )\n",
    "\n",
    "print(\"驗證集評估完成！\")"
   ]
  },
  {
   "cell_type": "code",
   "execution_count": null,
   "metadata": {},
   "outputs": [],
   "source": [
    "# 模型比較和視覺化\n",
    "comparison_df = evaluator.compare_models(evaluator.evaluation_results)\n",
    "print(\"模型性能比較:\")\n",
    "print(comparison_df)\n",
    "\n",
    "# 繪製比較圖\n",
    "fig = evaluator.plot_model_comparison(comparison_df)\n",
    "plt.show()\n",
    "\n",
    "# 繪製ROC曲線\n",
    "if any('auc_roc' in result for result in evaluator.evaluation_results.values()):\n",
    "    fig_roc = evaluator.plot_roc_curves(evaluator.evaluation_results)\n",
    "    plt.show()"
   ]
  },
  {
   "cell_type": "code",
   "execution_count": null,
   "metadata": {},
   "outputs": [],
   "source": [
    "# 最佳模型測試集評估\n",
    "best_model_name = comparison_df.iloc[0]['Model']\n",
    "logger.info(f\"最佳模型: {best_model_name}\")\n",
    "\n",
    "# 在測試集上評估最佳模型\n",
    "test_result = model_manager.evaluate_model(best_model_name, test_texts_clean, test_labels)\n",
    "print(f\"\\n{best_model_name} 測試集結果:\")\n",
    "print(f\"準確率: {test_result['accuracy']:.4f}\")\n",
    "\n",
    "# 繪製混淆矩陣\n",
    "fig_cm = evaluator.plot_confusion_matrix(\n",
    "    test_result['confusion_matrix'], \n",
    "    best_model_name\n",
    ")\n",
    "plt.show()\n",
    "\n",
    "# 生成評估報告\n",
    "report = evaluator.generate_evaluation_report(evaluator.evaluation_results)\n",
    "print(\"\\n\" + \"=\"*50)\n",
    "print(report)"
   ]
  }
 ],
 "metadata": {
  "kernelspec": {
   "display_name": "Python 3",
   "language": "python",
   "name": "python3"
  },
  "language_info": {
   "codemirror_mode": {
    "name": "ipython",
    "version": 3
   },
   "file_extension": ".py",
   "mimetype": "text/x-python",
   "name": "python",
   "nbconvert_exporter": "python",
   "pygments_lexer": "ipython3",
   "version": "3.9.0"
  }
 },
 "nbformat": 4,
 "nbformat_minor": 4
}